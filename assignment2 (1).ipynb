{
 "cells": [
  {
   "cell_type": "code",
   "execution_count": null,
   "id": "c6f06711-7c41-48ee-a129-be2cf6c49fa4",
   "metadata": {},
   "outputs": [],
   "source": [
    "Q1.\n",
    "Comments in Python are identified with a hash symbol, #, and extend to the end of the line. \n",
    "Hash characters in a string are not considered comments, however.\n",
    "types of comments are single line,multi -line,docstring comment."
   ]
  },
  {
   "cell_type": "code",
   "execution_count": null,
   "id": "6729da18-02bd-4c80-ba1a-6c44bafc00dc",
   "metadata": {},
   "outputs": [],
   "source": [
    "Q2.\n",
    "A variable is a string of characters and numbers associated with a piece of information.\n",
    "The assignment operator, denoted by the “=” symbol, is the operator that is used to assign values to variables in Python.\n",
    "The line x=1 takes the known value, 1, and assigns that value to the variable with name “x”.\n",
    "The value assigned to a variable determines the data type of that variable. Thus, declaring a variable in Python is very simple"
   ]
  },
  {
   "cell_type": "code",
   "execution_count": null,
   "id": "1d35a1b9-942a-45bb-bb1f-68bd1b945073",
   "metadata": {},
   "outputs": [],
   "source": [
    " Q3.\n",
    "In Python, you can simply use the bin() function to convert from a decimal value to its corresponding binary value.\n",
    "And similarly, the int() function to convert a binary to its decimal value. "
   ]
  },
  {
   "cell_type": "code",
   "execution_count": null,
   "id": "00641524-6c03-42bc-a38c-6e9fb7ba3fd0",
   "metadata": {},
   "outputs": [],
   "source": [
    "Q4.\n",
    "easy way to run a Python script is by using the python command.\n",
    "You need to open a command line and type the word python followed by the path to your script file like this:\n",
    "python first_script.py Hello World! Then you hit the ENTER button from the keyboard, and that's it."
   ]
  },
  {
   "cell_type": "code",
   "execution_count": 2,
   "id": "61394b3b-873f-4002-82ce-96299062aa09",
   "metadata": {},
   "outputs": [
    {
     "name": "stdout",
     "output_type": "stream",
     "text": [
      "[2, 3]\n"
     ]
    }
   ],
   "source": [
    "Q5.\n",
    "my_list=[1,2,3,4,5]\n",
    "print(my_list[1:3])"
   ]
  },
  {
   "cell_type": "code",
   "execution_count": null,
   "id": "ff2f3df3-8ac8-4215-afe3-6004a056523e",
   "metadata": {},
   "outputs": [],
   "source": [
    "Q6.\n",
    "Complex numbers are the numbers that are expressed in the form of a+ib where\n",
    "a,b are real numbers and 'i' is an imaginary number called “iota”.\n",
    "The value of i = (√-1). For example, 2+3i is a complex number, where 2 is a real number (Re) and\n",
    "3i is an imaginary number (Im)."
   ]
  },
  {
   "cell_type": "code",
   "execution_count": null,
   "id": "4ab8a63d-346d-4dbb-973f-cc77530d7abb",
   "metadata": {},
   "outputs": [],
   "source": [
    "Q7.\n",
    "age=int(25)"
   ]
  },
  {
   "cell_type": "code",
   "execution_count": null,
   "id": "7982fefc-3ca1-4cae-8799-53b102af4428",
   "metadata": {},
   "outputs": [],
   "source": [
    "Q8.\n",
    "price=9.99\n",
    "float data type"
   ]
  },
  {
   "cell_type": "code",
   "execution_count": 4,
   "id": "1c4eae2a-9091-46a7-b460-ba8ac89c9719",
   "metadata": {},
   "outputs": [
    {
     "name": "stdout",
     "output_type": "stream",
     "text": [
      "divya maurya\n"
     ]
    }
   ],
   "source": [
    "Q9.\n",
    "a=\"my_name\"\n",
    "my_name=\"divya maurya\"\n",
    "print(my_name)"
   ]
  },
  {
   "cell_type": "code",
   "execution_count": 1,
   "id": "cbd1e5b9-892d-4902-b89a-73817667d185",
   "metadata": {},
   "outputs": [
    {
     "name": "stdout",
     "output_type": "stream",
     "text": [
      "world\n"
     ]
    }
   ],
   "source": [
    "Q10.\n",
    "a=\"hello, world!\"\n",
    "print(a[7:12])"
   ]
  },
  {
   "cell_type": "code",
   "execution_count": 5,
   "id": "10bcca3f-f2b5-4007-8ea0-63d0fe41486d",
   "metadata": {},
   "outputs": [
    {
     "name": "stdout",
     "output_type": "stream",
     "text": [
      "True\n"
     ]
    }
   ],
   "source": [
    "Q11.\n",
    "is_student=True\n",
    "print(is_student)"
   ]
  },
  {
   "cell_type": "code",
   "execution_count": null,
   "id": "6eb4b701-ab4f-4f74-95c2-a14d9fe3212a",
   "metadata": {},
   "outputs": [],
   "source": []
  }
 ],
 "metadata": {
  "kernelspec": {
   "display_name": "Python 3 (ipykernel)",
   "language": "python",
   "name": "python3"
  },
  "language_info": {
   "codemirror_mode": {
    "name": "ipython",
    "version": 3
   },
   "file_extension": ".py",
   "mimetype": "text/x-python",
   "name": "python",
   "nbconvert_exporter": "python",
   "pygments_lexer": "ipython3",
   "version": "3.10.8"
  }
 },
 "nbformat": 4,
 "nbformat_minor": 5
}
